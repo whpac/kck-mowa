{
 "cells": [
  {
   "cell_type": "code",
   "execution_count": 48,
   "metadata": {},
   "outputs": [],
   "source": [
    "# Inspired by:\n",
    "# https://stackoverflow.com/questions/39230595/how-to-get-the-fundamental-frequency-using-harmonic-product-spectrum\n",
    "\n",
    "from pylab import *\n",
    "from numpy import *\n",
    "import math\n",
    "from ipywidgets import *\n",
    "\n",
    "HPS_ITERATIONS = 5\n",
    "\n",
    "def HPS(samplerate, dataVoice):\n",
    "    T_MAX = 3\n",
    "    T = len(dataVoice) / samplerate\n",
    "    samplerate = int(samplerate)\n",
    "\n",
    "    # Clip the sample to T_MAX seconds if necessary\n",
    "    if T > T_MAX:\n",
    "        startSample = len(dataVoice) // 2 - T_MAX * samplerate // 2\n",
    "        endSample = len(dataVoice) // 2 + T_MAX * samplerate // 2\n",
    "        dataVoice = dataVoice[startSample:endSample]\n",
    "        T = T_MAX\n",
    "\n",
    "    # Analyze one-second-wide windows separately\n",
    "    windows = [ dataVoice[i*samplerate:(i+1)*samplerate] for i in range(int(T))]\n",
    "    windowResults = []\n",
    "    for window in windows:\n",
    "        if(len(window) == 0):\n",
    "            continue\n",
    "\n",
    "        # According to HPS, multiply the freqs by their multiples\n",
    "        fftOriginal = abs(fft.fft(window)) / samplerate\n",
    "        fftHarmonic = copy(fftOriginal)\n",
    "        for i in range(2, HPS_ITERATIONS):\n",
    "            squeezed = copy(fftOriginal[::i])\n",
    "            fftHarmonic = fftHarmonic[:len(squeezed)]\n",
    "            fftHarmonic *= squeezed\n",
    "\n",
    "        windowResults.append(fftHarmonic)\n",
    "    \n",
    "    # Join the results of each window\n",
    "    result = np.zeros(len(windowResults[0]))\n",
    "    for windowResult in windowResults:\n",
    "        if(len(windowResult) != len(result)):\n",
    "            continue\n",
    "        result += windowResult\n",
    "    return result"
   ]
  },
  {
   "cell_type": "code",
   "execution_count": 49,
   "metadata": {},
   "outputs": [],
   "source": [
    "from playsound import playsound\n",
    "from scipy.io import wavfile\n",
    "\n",
    "def readSound(filename):\n",
    "    samplerate, data = wavfile.read(filename)\n",
    "    dataShape = np.shape(data)\n",
    "    if len(dataShape) > 1:\n",
    "        data = data[:, 0]\n",
    "    return samplerate, data"
   ]
  },
  {
   "cell_type": "code",
   "execution_count": 51,
   "metadata": {},
   "outputs": [
    {
     "name": "stdout",
     "output_type": "stream",
     "text": [
      "K\n",
      "M\n"
     ]
    },
    {
     "name": "stderr",
     "output_type": "stream",
     "text": [
      "C:\\Users\\marci\\AppData\\Local\\Temp\\ipykernel_20560\\3491851664.py:5: WavFileWarning: Reached EOF prematurely; finished at 613916 bytes, expected 613924 bytes from header.\n",
      "  samplerate, data = wavfile.read(filename)\n"
     ]
    }
   ],
   "source": [
    "maleRange = [85, 155]\n",
    "femaleRange = [165, 255]\n",
    "def getGenderByHPS(hpsResult):\n",
    "    maleSum = sum(hpsResult[maleRange[0]:maleRange[1]])\n",
    "    femaleSum = sum(hpsResult[femaleRange[0]:femaleRange[1]])\n",
    "\n",
    "    if(maleSum > femaleSum):\n",
    "        return 'M'\n",
    "    else:\n",
    "        return 'K'\n",
    "\n",
    "samplerate, data = readSound('sounds/001_K.wav')\n",
    "hps1 = HPS(samplerate, data)\n",
    "isMale1 = getGenderByHPS(hps1)\n",
    "print(isMale1)\n",
    "\n",
    "samplerate, data = readSound('sounds/002_M.wav')\n",
    "hps2 = HPS(samplerate, data)\n",
    "isMale2 = getGenderByHPS(hps2)\n",
    "print(isMale2)"
   ]
  },
  {
   "cell_type": "code",
   "execution_count": 53,
   "metadata": {},
   "outputs": [
    {
     "name": "stderr",
     "output_type": "stream",
     "text": [
      "C:\\Users\\marci\\AppData\\Local\\Temp\\ipykernel_20560\\3491851664.py:5: WavFileWarning: Reached EOF prematurely; finished at 613916 bytes, expected 613924 bytes from header.\n",
      "  samplerate, data = wavfile.read(filename)\n"
     ]
    },
    {
     "name": "stdout",
     "output_type": "stream",
     "text": [
      "Matches: 83/91 = 91%\n",
      "\tOczekiwane\n",
      "\tK\tM\n",
      "K\t44\t6\n",
      "M\t2\t39\n"
     ]
    },
    {
     "name": "stderr",
     "output_type": "stream",
     "text": [
      "C:\\Users\\marci\\AppData\\Local\\Temp\\ipykernel_20560\\3491851664.py:5: WavFileWarning: Chunk (non-data) not understood, skipping it.\n",
      "  samplerate, data = wavfile.read(filename)\n"
     ]
    }
   ],
   "source": [
    "import os\n",
    "\n",
    "# decisions[expected][actual]\n",
    "decisions = {\n",
    "    'K': { 'K': 0, 'M': 0 },\n",
    "    'M': { 'K': 0, 'M': 0 },\n",
    "}\n",
    "matches = 0\n",
    "\n",
    "sounds = os.listdir('sounds')\n",
    "for soundFile in sounds:\n",
    "    expected = soundFile[4]\n",
    "\n",
    "    samplerate, samples = readSound(f'sounds/{soundFile}')\n",
    "    hps = HPS(samplerate, samples)\n",
    "    gender = getGenderByHPS(hps)\n",
    "    \n",
    "    decisions[expected][gender] += 1\n",
    "\n",
    "    if expected == gender:\n",
    "        matches += 1\n",
    "\n",
    "print(f'Matches: {matches}/{len(sounds)} = {int(matches / len(sounds) * 100)}%')\n",
    "\n",
    "print('\\tOczekiwane')\n",
    "print('\\tK\\tM')\n",
    "print(f'K\\t{decisions[\"K\"][\"K\"]}\\t{decisions[\"M\"][\"K\"]}')\n",
    "print(f'M\\t{decisions[\"K\"][\"M\"]}\\t{decisions[\"M\"][\"M\"]}')"
   ]
  }
 ],
 "metadata": {
  "kernelspec": {
   "display_name": "Python 3",
   "language": "python",
   "name": "python3"
  },
  "language_info": {
   "codemirror_mode": {
    "name": "ipython",
    "version": 3
   },
   "file_extension": ".py",
   "mimetype": "text/x-python",
   "name": "python",
   "nbconvert_exporter": "python",
   "pygments_lexer": "ipython3",
   "version": "3.10.2"
  },
  "orig_nbformat": 4,
  "vscode": {
   "interpreter": {
    "hash": "881fdfd94a25aa10e20db5e566f8156148d1b2639d104ac555e2327d9e425f83"
   }
  }
 },
 "nbformat": 4,
 "nbformat_minor": 2
}
